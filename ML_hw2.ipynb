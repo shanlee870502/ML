{
  "nbformat": 4,
  "nbformat_minor": 0,
  "metadata": {
    "colab": {
      "name": "ML_hw2.ipynb",
      "provenance": [],
      "collapsed_sections": []
    },
    "kernelspec": {
      "name": "python3",
      "display_name": "Python 3"
    },
    "accelerator": "TPU"
  },
  "cells": [
    {
      "cell_type": "markdown",
      "metadata": {
        "id": "GT89rdHnMZTO"
      },
      "source": [
        "https://hackernoon.com/implementation-of-gaussian-naive-bayes-in-python-from-scratch-c4ea64e3944d\n",
        "\n",
        "https://peterroelants.github.io/posts/multivariate-normal-primer/"
      ]
    },
    {
      "cell_type": "code",
      "metadata": {
        "id": "4RSqrsOEPyuV",
        "cellView": "both"
      },
      "source": [
        "import numpy as np\n",
        "from sklearn.datasets import load_breast_cancer\n",
        "from sklearn.base import BaseEstimator, ClassifierMixin\n",
        "from sklearn.naive_bayes import GaussianNB\n",
        "from math import exp"
      ],
      "execution_count": null,
      "outputs": []
    },
    {
      "cell_type": "code",
      "metadata": {
        "id": "W-yBUQW7TpjM"
      },
      "source": [
        "class myGaussianClassifier(BaseEstimator, ClassifierMixin):\n",
        "  def __init__(self,alpha=1e-5): # alpha: normalize sample covariance matrix\n",
        "      if isinstance(self, myGaussianClassifier):\n",
        "        super(myGaussianClassifier, self).__init__()\n",
        "      self.alpha = alpha\n",
        "  def fit(self, train, target):\n",
        "    N, d = train.shape #N: 有幾筆資料\n",
        "    self.label= np.sort(np.unique(target.ravel())) # [0, 1]\n",
        "    self.c_ = self.label.size # 2\n",
        "    self.d_ = d #feature = 30\n",
        "    self.prior_ = np.zeros((self.c_,))\n",
        "    self.mean_ = np.zeros((self.c_, self.d_))\n",
        "    self.cov_ = np.zeros((self.c_, self.d_, self.d_))\n",
        "    for cid, y in enumerate(self.label):\n",
        "      idx = np.nonzero(target.ravel() == y)\n",
        "      self.cov_[cid] = np.cov(train[idx], rowvar=False) + self.alpha*np.eye(d)\n",
        "      self.mean_[cid] = np.mean(train[idx], axis = 0)\n",
        "      self.prior_[cid] = np.sum(train[idx]) / (target.size)\n",
        "    return self\n",
        "  def predict(self, X, y=None):\n",
        "    return self.label[np.argmax(self.predict_proba(X), 1)]\n",
        "  def predict_proba(self, X, y=None): #each row of P(C|x) =>視需要\n",
        "    total_prob=[] #class likelihood\n",
        "    for x in X:\n",
        "        prob = []\n",
        "        x_m = np.zeros(self.d_)\n",
        "        for i in range(0, self.c_):\n",
        "            x_m = x - self.mean_[i]\n",
        "            prob.append(1. / (np.sqrt((2 * np.pi)**self.d_ * np.linalg.det(self.cov_[i]))) * \n",
        "             np.exp(-(np.linalg.solve(self.cov_[i], x_m).T.dot(x_m)) / 2))\n",
        "        total_prob.append(prob)\n",
        "    return np.array(total_prob)*self.prior_ # class likelihood * prior => P(X|C) * P(C)"
      ],
      "execution_count": null,
      "outputs": []
    },
    {
      "cell_type": "code",
      "metadata": {
        "id": "x8LlP7e-pe_t",
        "outputId": "271557b7-b9d2-427d-a545-ec7f417eee5c",
        "colab": {
          "base_uri": "https://localhost:8080/",
          "height": 229
        }
      },
      "source": [
        "from sklearn.model_selection import GridSearchCV, StratifiedKFold, cross_val_score\n",
        "from sklearn import neighbors, svm, naive_bayes\n",
        "from sklearn.preprocessing import MinMaxScaler, scale\n",
        "from sklearn.pipeline import Pipeline\n",
        "import sklearn.datasets as ds\n",
        "import numpy as np\n",
        "\n",
        "# load data\n",
        "data, target = ds.load_breast_cancer(True)\n",
        "# classifier\n",
        "gauss_clf = myGaussianClassifier()\n",
        "knn_clf = neighbors.KNeighborsClassifier(n_neighbors=3, weights='uniform', algorithm='kd_tree', leaf_size=30)\n",
        "svm_clf = svm.SVC(kernel='linear', C=1, probability=True)\n",
        "gaussNB_clf = naive_bayes.GaussianNB()\n",
        "\n",
        "# define hyper-parm and its value\n",
        "knn_clf_param = {'n_neighbors':[1, 3, 5, 7]}\n",
        "svm_clf_param = {'C':[0.01, 0.1, 1, 10]}\n",
        "gauss_clf_param = {'alpha':[0.001, 0.01, 0.1, 1, 10, 100]}\n",
        "gaussNB_clf_param = {'var_smoothing':np.logspace(-5,2,6)}\n",
        "\n",
        "# inner cross-validation for hyper-param tuning\n",
        "# n_jobs = -1 probably having bug in windows sys, change it into n_jobs=1\n",
        "gauss_gs = GridSearchCV(estimator=gauss_clf, param_grid = gauss_clf_param, scoring = 'accuracy', cv = 5, n_jobs = 1, verbose = 1)\n",
        "knn_gs = GridSearchCV(estimator = knn_clf, param_grid = knn_clf_param, scoring ='accuracy', cv = 5, n_jobs = 1, verbose = 1)\n",
        "svm_gs = GridSearchCV(estimator = svm_clf, param_grid = svm_clf_param, scoring = 'accuracy', cv = 5, n_jobs= 1, verbose = 1)\n",
        "svm_pipeline = Pipeline([('scaler', MinMaxScaler()), ('svm_gs', svm_gs)])\n",
        "gaussNB_gs = GridSearchCV(estimator = gaussNB_clf, param_grid = gaussNB_clf_param, scoring = 'accuracy', cv= 5, n_jobs = 1, verbose = 1)\n",
        "\n",
        "# outer cross-validation for estimating the accuracy of the clf\n",
        "# the clf to be compared must be evaluated by the same k-fold CV\n",
        "k_fold = StratifiedKFold(n_splits = 10, shuffle = True, random_state = 3)\n",
        "\n",
        "# n_jobs = -1 probably having bug in windows sys, change it into n_jobs=1\n",
        "gauss_scores = cross_val_score(gauss_gs, data, target, scoring='accuracy', cv = k_fold, n_jobs = 20, verbose = 10)\n",
        "knn_scores = cross_val_score(knn_gs, data, target, scoring = 'accuracy', cv = k_fold, verbose = 10)\n",
        "svm_scores = cross_val_score(svm_pipeline, data, target, scoring = 'accuracy', cv = k_fold, verbose = 10)\n",
        "gaussNB_scores = cross_val_score(gaussNB_gs, data, target, scoring = 'accuracy', cv = k_fold, verbose = 10)"
      ],
      "execution_count": null,
      "outputs": [
        {
          "output_type": "error",
          "ename": "NameError",
          "evalue": "ignored",
          "traceback": [
            "\u001b[0;31m---------------------------------------------------------------------------\u001b[0m",
            "\u001b[0;31mNameError\u001b[0m                                 Traceback (most recent call last)",
            "\u001b[0;32m<ipython-input-1-809f24dc5c1e>\u001b[0m in \u001b[0;36m<module>\u001b[0;34m()\u001b[0m\n\u001b[1;32m      9\u001b[0m \u001b[0mdata\u001b[0m\u001b[0;34m,\u001b[0m \u001b[0mtarget\u001b[0m \u001b[0;34m=\u001b[0m \u001b[0mds\u001b[0m\u001b[0;34m.\u001b[0m\u001b[0mload_breast_cancer\u001b[0m\u001b[0;34m(\u001b[0m\u001b[0;32mTrue\u001b[0m\u001b[0;34m)\u001b[0m\u001b[0;34m\u001b[0m\u001b[0;34m\u001b[0m\u001b[0m\n\u001b[1;32m     10\u001b[0m \u001b[0;31m# classifier\u001b[0m\u001b[0;34m\u001b[0m\u001b[0;34m\u001b[0m\u001b[0;34m\u001b[0m\u001b[0m\n\u001b[0;32m---> 11\u001b[0;31m \u001b[0mgauss_clf\u001b[0m \u001b[0;34m=\u001b[0m \u001b[0mmyGaussianClassifier\u001b[0m\u001b[0;34m(\u001b[0m\u001b[0;34m)\u001b[0m\u001b[0;34m\u001b[0m\u001b[0;34m\u001b[0m\u001b[0m\n\u001b[0m\u001b[1;32m     12\u001b[0m \u001b[0mknn_clf\u001b[0m \u001b[0;34m=\u001b[0m \u001b[0mneighbors\u001b[0m\u001b[0;34m.\u001b[0m\u001b[0mKNeighborsClassifier\u001b[0m\u001b[0;34m(\u001b[0m\u001b[0mn_neighbors\u001b[0m\u001b[0;34m=\u001b[0m\u001b[0;36m3\u001b[0m\u001b[0;34m,\u001b[0m \u001b[0mweights\u001b[0m\u001b[0;34m=\u001b[0m\u001b[0;34m'uniform'\u001b[0m\u001b[0;34m,\u001b[0m \u001b[0malgorithm\u001b[0m\u001b[0;34m=\u001b[0m\u001b[0;34m'kd_tree'\u001b[0m\u001b[0;34m,\u001b[0m \u001b[0mleaf_size\u001b[0m\u001b[0;34m=\u001b[0m\u001b[0;36m30\u001b[0m\u001b[0;34m)\u001b[0m\u001b[0;34m\u001b[0m\u001b[0;34m\u001b[0m\u001b[0m\n\u001b[1;32m     13\u001b[0m \u001b[0msvm_clf\u001b[0m \u001b[0;34m=\u001b[0m \u001b[0msvm\u001b[0m\u001b[0;34m.\u001b[0m\u001b[0mSVC\u001b[0m\u001b[0;34m(\u001b[0m\u001b[0mkernel\u001b[0m\u001b[0;34m=\u001b[0m\u001b[0;34m'linear'\u001b[0m\u001b[0;34m,\u001b[0m \u001b[0mC\u001b[0m\u001b[0;34m=\u001b[0m\u001b[0;36m1\u001b[0m\u001b[0;34m,\u001b[0m \u001b[0mprobability\u001b[0m\u001b[0;34m=\u001b[0m\u001b[0;32mTrue\u001b[0m\u001b[0;34m)\u001b[0m\u001b[0;34m\u001b[0m\u001b[0;34m\u001b[0m\u001b[0m\n",
            "\u001b[0;31mNameError\u001b[0m: name 'myGaussianClassifier' is not defined"
          ]
        }
      ]
    },
    {
      "cell_type": "code",
      "metadata": {
        "id": "NxkXy1_CDXQn",
        "outputId": "ba31cc53-e998-43f9-e59f-c5b30d86276a",
        "colab": {
          "base_uri": "https://localhost:8080/",
          "height": 151
        }
      },
      "source": [
        "print(\"----------------------GAUSS----------------------------\")\n",
        "print(np.mean(gauss_scores))\n",
        "print(\"----------------------KNN----------------------------\")\n",
        "print(np.mean(knn_scores))\n",
        "print(\"----------------------SVM----------------------------\")\n",
        "print(np.mean(svm_scores))\n",
        "print(\"----------------------GAUSS_NB----------------------------\")\n",
        "print(np.mean(gaussNB_scores))"
      ],
      "execution_count": null,
      "outputs": [
        {
          "output_type": "stream",
          "text": [
            "----------------------GAUSS----------------------------\n",
            "0.9525689223057643\n",
            "----------------------KNN----------------------------\n",
            "0.9331453634085213\n",
            "----------------------SVM----------------------------\n",
            "0.982456140350877\n",
            "----------------------GAUSS_NB----------------------------\n",
            "0.9244047619047618\n"
          ],
          "name": "stdout"
        }
      ]
    },
    {
      "cell_type": "code",
      "metadata": {
        "id": "5ZmXcAAzHjO2"
      },
      "source": [
        "def test_pvalue(pvalue, cls1, cls2):\n",
        "    print('------------------------')\n",
        "    if pvalue<=0.05:\n",
        "        print( 'the differrence in accuracy between ', cls1,' and ',cls2,' is significant')\n",
        "    else:\n",
        "        print( \"the differrence in accuracy between\",cls1,\" and \",cls2,\" is not significant\")\n",
        "    return \"pvalue:\",pvalue"
      ],
      "execution_count": null,
      "outputs": []
    },
    {
      "cell_type": "code",
      "metadata": {
        "id": "R6m7M1BEDYGE",
        "outputId": "89db5e34-d531-4538-adab-5efc80886243",
        "colab": {
          "base_uri": "https://localhost:8080/",
          "height": 168
        }
      },
      "source": [
        "# Max accuracy is \"SVM Clasifier\"\n",
        "from scipy import stats\n",
        "max_cls= \"SVM Classifier\"\n",
        "t1, pvalue1 = stats.ttest_rel(gauss_scores, svm_scores)\n",
        "print(test_pvalue(pvalue1, \"Gauss Clasifier\",max_cls))\n",
        "t2, pvalue2 = stats.ttest_rel(knn_scores, svm_scores)\n",
        "print(test_pvalue(pvalue2, \"KNN Clasifier\",max_cls))\n",
        "t3, pvalue3 = stats.ttest_rel(gaussNB_scores, svm_scores)\n",
        "print(test_pvalue(pvalue3, \"GaussNB Clasifier\",max_cls))"
      ],
      "execution_count": null,
      "outputs": [
        {
          "output_type": "stream",
          "text": [
            "------------------------\n",
            "the differrence in accuracy between  Gauss Clasifier  and  SVM Classifier  is significant\n",
            "('pvalue:', 0.005723268993808907)\n",
            "------------------------\n",
            "the differrence in accuracy between  KNN Clasifier  and  SVM Classifier  is significant\n",
            "('pvalue:', 0.009607662177057304)\n",
            "------------------------\n",
            "the differrence in accuracy between  GaussNB Clasifier  and  SVM Classifier  is significant\n",
            "('pvalue:', 0.0018882146755463938)\n"
          ],
          "name": "stdout"
        }
      ]
    },
    {
      "cell_type": "code",
      "metadata": {
        "id": "39LyzZZ0qAqP"
      },
      "source": [
        ""
      ],
      "execution_count": null,
      "outputs": []
    }
  ]
}