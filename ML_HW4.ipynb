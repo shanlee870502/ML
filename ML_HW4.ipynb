{
  "nbformat": 4,
  "nbformat_minor": 0,
  "metadata": {
    "colab": {
      "name": "ML_HW4.ipynb",
      "provenance": [],
      "collapsed_sections": [],
      "toc_visible": true
    },
    "kernelspec": {
      "name": "python3",
      "display_name": "Python 3"
    },
    "accelerator": "GPU"
  },
  "cells": [
    {
      "cell_type": "code",
      "metadata": {
        "id": "7Vmaa4_SgD8E"
      },
      "source": [
        "def preprocess_dataset(dataset):\n",
        "    # preprocess gas and concerntration ( col = 0 )\n",
        "    gas_name_lst = []\n",
        "    concentration_lst=[]\n",
        "\n",
        "    for element in dataset[0]:\n",
        "        gas_name, concentration = element.split(\";\")\n",
        "        gas_name_lst.append(gas_name)\n",
        "        concentration_lst.append(float(concentration))\n",
        "\n",
        "    dataset[\"gas\"] = gas_name_lst\n",
        "    dataset[\"concentration\"] = concentration_lst\n",
        "\n",
        "    # preprocess feature 1-128 ( col = 1-128 )\n",
        "    for feature in range(1, 129):\n",
        "        dataset[feature] = dataset[feature].str.extract(r'((?<=\\:)[^\\]]+)')\n",
        "        dataset[feature] = dataset[feature].astype(float)\n",
        "    dataset = dataset.drop(columns=[0])\n",
        "\n",
        "    return dataset"
      ],
      "execution_count": null,
      "outputs": []
    },
    {
      "cell_type": "code",
      "metadata": {
        "id": "yi7PNllMLqob"
      },
      "source": [
        "import pandas as pd\n",
        "import numpy as np\n",
        "count = 0\n",
        "c_=[]\n",
        "for i in range(1, 11):\n",
        "    dataset = pd.read_table(\"batch\"+str(i)+\".dat\",sep=\"\\s+\",header=None)\n",
        "    # print(dataset.head())\n",
        "    new_dataset = pd.DataFrame()\n",
        "    new_dataset = preprocess_dataset(dataset)\n",
        "    for element in new_dataset[\"concentration\"].unique():\n",
        "        if float(element) not in c_:\n",
        "            c_.append(float(element))\n"
      ],
      "execution_count": null,
      "outputs": []
    },
    {
      "cell_type": "code",
      "metadata": {
        "id": "LpA7LYw8nHGa",
        "outputId": "5460ccc0-48dd-4616-9688-274b25036fbf",
        "colab": {
          "base_uri": "https://localhost:8080/",
          "height": 34
        }
      },
      "source": [
        "print(len(c_))"
      ],
      "execution_count": null,
      "outputs": [
        {
          "output_type": "stream",
          "text": [
            "59\n"
          ],
          "name": "stdout"
        }
      ]
    },
    {
      "cell_type": "code",
      "metadata": {
        "id": "oHf3huCU29tJ",
        "outputId": "2e6ed88c-8c4f-4944-b9c6-f3ab9aa85380",
        "colab": {
          "base_uri": "https://localhost:8080/",
          "height": 336
        }
      },
      "source": [
        "batch_1 = pd.DataFrame()\n",
        "batch_10 = pd.DataFrame()\n",
        "batch_1 =preprocess_dataset( pd.read_table(\"batch1.dat\", sep=\"\\s+\", header = None))\n",
        "batch_10 = preprocess_dataset( pd.read_table(\"batch10.dat\", sep=\"\\s+\", header = None))\n",
        "\n",
        "print(batch_1.head())\n",
        "print(batch_10.head())\n",
        "\n",
        "gas_category = 6\n",
        "max_gas = 0\n",
        "max_num=0\n",
        "for gas in range(1,gas_category+1):\n",
        "    concentration_category_1 = batch_1[(batch_1[\"gas\"]==str(gas))][\"concentration\"].unique()\n",
        "    concentration_category_10 = batch_10[(batch_10[\"gas\"]==str(gas))][\"concentration\"].unique()\n",
        "    concentration_category = list(set(concentration_category_1) & set(concentration_category_10)) #找交集\n",
        "    # print(concentration_category_1)\n",
        "    # print(concentration_category_10)\n",
        "    # print(concentration_category)\n",
        "    # print(\"\\n\")\n",
        "    for concentration in concentration_category:\n",
        "        gas_con_1 = batch_1[(batch_1[\"gas\"]==str(gas)) & (batch_1[\"concentration\"]==concentration)].drop(columns=[\"gas\", \"concentration\"])\n",
        "        gas_con_10 = batch_10[(batch_10[\"gas\"]==str(gas)) & (batch_10[\"concentration\"]==concentration)].drop(columns=[\"gas\", \"concentration\"])\n",
        "        m_1 = gas_con_1.mean()\n",
        "        m_10 = gas_con_10.mean()\n",
        "        num = max(abs(m_10-m_1)/abs(m_1))\n",
        "        if num>max_num:\n",
        "            max_num = num\n",
        "            max_gas = gas\n",
        "print(\"max_gas, max_num\\n\")     \n",
        "print(max_gas, max_num)"
      ],
      "execution_count": null,
      "outputs": [
        {
          "output_type": "stream",
          "text": [
            "            1         2          3  ...       128  gas  concentration\n",
            "0  15596.1621  1.868245   2.371604  ... -2.654529    1           10.0\n",
            "1  26402.0704  2.532401   5.411209  ... -1.749225    1           20.0\n",
            "2  42103.5820  3.454189   8.198175  ... -2.348370    1           30.0\n",
            "3  42825.9883  3.451192  12.113940  ... -2.488957    1           40.0\n",
            "4  58151.1757  4.194839  11.455096  ... -4.088756    1           50.0\n",
            "\n",
            "[5 rows x 130 columns]\n",
            "            1          2          3  ...        128  gas  concentration\n",
            "0  12285.6582   4.076635   4.842317  ...  -3.521663    4           10.0\n",
            "1    -35.6889   0.993944   0.166099  ...  -4.635975    3           50.0\n",
            "2  63927.2217  14.956941  19.971376  ... -19.326895    4          250.0\n",
            "3   2992.9019   1.380553   0.808910  ...  -6.472439    3          600.0\n",
            "4  57524.7812  11.912566  14.631496  ...  -8.510591    4          150.0\n",
            "\n",
            "[5 rows x 130 columns]\n",
            "max_gas, max_num\n",
            "\n",
            "2 28.391856713088817\n"
          ],
          "name": "stdout"
        }
      ]
    },
    {
      "cell_type": "markdown",
      "metadata": {
        "id": "utXs2cSQaHls"
      },
      "source": [
        "若要觀察16個感測器的特徵在某個氣體，某個濃度下，使用PCA將樣本(同一種氣體，在同一濃度下所有時期樣本)由128維度降至2維來呈現在不同時期的樣本確實呈現分布上的差異，來證實16個感測器整體上確實有感測器飄移現象。請問下面哪一張圖呈現的是氣體編號5號，在濃度10時的樣本分布。\n"
      ]
    },
    {
      "cell_type": "code",
      "metadata": {
        "id": "zv4v3bruzR13",
        "outputId": "65ece929-1001-413d-bc7b-0098f704ddf2",
        "colab": {
          "base_uri": "https://localhost:8080/",
          "height": 1000
        }
      },
      "source": [
        "for i in range(1,11):\n",
        "    batch = pd.DataFrame()\n",
        "    batch = preprocess_dataset( pd.read_table(\"batch\"+str(i)+\".dat\", sep=\"\\s+\", header = None))\n",
        "    tt = batch[(batch[\"gas\"]==\"6\")&(batch[\"concentration\"]==10.0)]\n",
        "    print(\"---------------------------batch\"+str(i)+\"------------------------------------\")\n",
        "    print(tt)"
      ],
      "execution_count": null,
      "outputs": [
        {
          "output_type": "stream",
          "text": [
            "---------------------------batch1------------------------------------\n",
            "              1         2          3  ...       128  gas  concentration\n",
            "380  73888.5136  6.262925  15.478080  ... -1.810275    6           10.0\n",
            "393  72422.7216  5.885755  15.150329  ... -1.783327    6           10.0\n",
            "408  71878.8310  5.763069  15.442017  ... -2.054343    6           10.0\n",
            "423  74608.7041  7.165237  13.458256  ... -2.008253    6           10.0\n",
            "440  74805.0518  6.707129  15.446750  ... -2.153036    6           10.0\n",
            "\n",
            "[5 rows x 130 columns]\n",
            "---------------------------batch2------------------------------------\n",
            "Empty DataFrame\n",
            "Columns: [1, 2, 3, 4, 5, 6, 7, 8, 9, 10, 11, 12, 13, 14, 15, 16, 17, 18, 19, 20, 21, 22, 23, 24, 25, 26, 27, 28, 29, 30, 31, 32, 33, 34, 35, 36, 37, 38, 39, 40, 41, 42, 43, 44, 45, 46, 47, 48, 49, 50, 51, 52, 53, 54, 55, 56, 57, 58, 59, 60, 61, 62, 63, 64, 65, 66, 67, 68, 69, 70, 71, 72, 73, 74, 75, 76, 77, 78, 79, 80, 81, 82, 83, 84, 85, 86, 87, 88, 89, 90, 91, 92, 93, 94, 95, 96, 97, 98, 99, 100, ...]\n",
            "Index: []\n",
            "\n",
            "[0 rows x 130 columns]\n",
            "---------------------------batch3------------------------------------\n",
            "Empty DataFrame\n",
            "Columns: [1, 2, 3, 4, 5, 6, 7, 8, 9, 10, 11, 12, 13, 14, 15, 16, 17, 18, 19, 20, 21, 22, 23, 24, 25, 26, 27, 28, 29, 30, 31, 32, 33, 34, 35, 36, 37, 38, 39, 40, 41, 42, 43, 44, 45, 46, 47, 48, 49, 50, 51, 52, 53, 54, 55, 56, 57, 58, 59, 60, 61, 62, 63, 64, 65, 66, 67, 68, 69, 70, 71, 72, 73, 74, 75, 76, 77, 78, 79, 80, 81, 82, 83, 84, 85, 86, 87, 88, 89, 90, 91, 92, 93, 94, 95, 96, 97, 98, 99, 100, ...]\n",
            "Index: []\n",
            "\n",
            "[0 rows x 130 columns]\n",
            "---------------------------batch4------------------------------------\n",
            "Empty DataFrame\n",
            "Columns: [1, 2, 3, 4, 5, 6, 7, 8, 9, 10, 11, 12, 13, 14, 15, 16, 17, 18, 19, 20, 21, 22, 23, 24, 25, 26, 27, 28, 29, 30, 31, 32, 33, 34, 35, 36, 37, 38, 39, 40, 41, 42, 43, 44, 45, 46, 47, 48, 49, 50, 51, 52, 53, 54, 55, 56, 57, 58, 59, 60, 61, 62, 63, 64, 65, 66, 67, 68, 69, 70, 71, 72, 73, 74, 75, 76, 77, 78, 79, 80, 81, 82, 83, 84, 85, 86, 87, 88, 89, 90, 91, 92, 93, 94, 95, 96, 97, 98, 99, 100, ...]\n",
            "Index: []\n",
            "\n",
            "[0 rows x 130 columns]\n",
            "---------------------------batch5------------------------------------\n",
            "Empty DataFrame\n",
            "Columns: [1, 2, 3, 4, 5, 6, 7, 8, 9, 10, 11, 12, 13, 14, 15, 16, 17, 18, 19, 20, 21, 22, 23, 24, 25, 26, 27, 28, 29, 30, 31, 32, 33, 34, 35, 36, 37, 38, 39, 40, 41, 42, 43, 44, 45, 46, 47, 48, 49, 50, 51, 52, 53, 54, 55, 56, 57, 58, 59, 60, 61, 62, 63, 64, 65, 66, 67, 68, 69, 70, 71, 72, 73, 74, 75, 76, 77, 78, 79, 80, 81, 82, 83, 84, 85, 86, 87, 88, 89, 90, 91, 92, 93, 94, 95, 96, 97, 98, 99, 100, ...]\n",
            "Index: []\n",
            "\n",
            "[0 rows x 130 columns]\n",
            "---------------------------batch6------------------------------------\n",
            "               1         2         3  ...       128  gas  concentration\n",
            "2201  23146.3155  3.530386  8.021786  ... -4.170373    6           10.0\n",
            "2203  23824.1367  3.747449  8.071247  ... -3.874175    6           10.0\n",
            "2205  23230.9726  3.470558  7.940277  ... -4.747720    6           10.0\n",
            "2207  23326.3701  3.531014  8.010982  ... -3.921809    6           10.0\n",
            "2209  23635.5341  3.563891  8.014005  ... -3.969180    6           10.0\n",
            "2211  23488.1660  3.532006  8.024011  ... -4.564286    6           10.0\n",
            "2213  23636.2422  3.569995  7.923588  ... -3.775510    6           10.0\n",
            "2215  23805.4160  3.564366  7.987388  ... -4.161483    6           10.0\n",
            "2217  23569.3857  3.530348  7.997917  ... -3.820175    6           10.0\n",
            "2219  23486.7910  3.503305  7.901476  ... -4.073439    6           10.0\n",
            "2221  23560.3466  3.479763  7.947623  ... -3.837885    6           10.0\n",
            "2223  23573.5069  3.529471  7.907557  ... -3.548688    6           10.0\n",
            "2225  23853.7998  3.573770  7.815948  ... -3.847556    6           10.0\n",
            "2227  23812.0615  3.576143  7.907901  ... -4.286139    6           10.0\n",
            "2229  23833.0068  3.521241  8.064134  ... -4.355563    6           10.0\n",
            "2231  23754.1884  3.535768  8.056537  ... -4.306804    6           10.0\n",
            "2233  23767.5107  3.520381  7.962808  ... -3.876039    6           10.0\n",
            "2235  23764.6504  3.543010  7.971747  ... -4.384938    6           10.0\n",
            "2237  23924.1074  3.532363  7.842453  ... -3.965094    6           10.0\n",
            "2239  23668.7480  3.510235  7.888567  ... -4.149547    6           10.0\n",
            "2241  24031.4267  3.604457  7.922485  ... -4.002928    6           10.0\n",
            "2243  23963.9434  3.536579  7.879631  ... -4.138919    6           10.0\n",
            "2245  23965.0781  3.530427  7.863766  ... -4.568371    6           10.0\n",
            "2247  23946.8740  3.542547  7.752496  ... -3.911944    6           10.0\n",
            "2249  23906.1006  3.520748  7.716631  ... -3.921129    6           10.0\n",
            "2251  23874.4375  3.522828  7.626830  ... -3.959829    6           10.0\n",
            "2253  23843.4043  3.496023  7.674638  ... -4.240881    6           10.0\n",
            "2255  23798.5801  3.525485  7.648882  ... -3.983871    6           10.0\n",
            "2257  23917.4512  3.498236  7.733984  ... -4.304891    6           10.0\n",
            "2259  23955.2344  3.528399  7.691987  ... -4.752901    6           10.0\n",
            "2261  23797.2618  3.508781  7.606292  ... -4.175102    6           10.0\n",
            "2263  24103.7168  3.542579  7.742996  ... -4.283382    6           10.0\n",
            "2265  23708.2480  3.448798  7.565986  ... -3.896244    6           10.0\n",
            "2267  24060.4521  3.550448  7.646465  ... -4.221334    6           10.0\n",
            "2269  23665.5869  3.451406  7.521552  ... -4.085597    6           10.0\n",
            "2271  23921.9952  3.520946  7.625654  ... -4.228498    6           10.0\n",
            "2273  23987.3037  3.556151  7.710855  ... -4.227611    6           10.0\n",
            "2275  23937.1201  3.545490  7.735192  ... -4.527434    6           10.0\n",
            "2277  23740.7998  3.495990  7.546876  ... -3.646566    6           10.0\n",
            "2279  23722.8447  3.559306  7.560541  ... -4.093877    6           10.0\n",
            "2281  23813.2393  3.559029  7.713220  ... -4.001146    6           10.0\n",
            "2283  23870.7529  3.551036  7.742487  ... -4.629510    6           10.0\n",
            "2285  23912.1533  3.562633  7.630556  ... -4.025847    6           10.0\n",
            "2287  23870.3730  3.511576  7.649324  ... -4.285089    6           10.0\n",
            "2289  23909.0986  3.565648  7.691702  ... -4.037994    6           10.0\n",
            "2291  23811.0547  3.518754  7.711738  ... -4.056153    6           10.0\n",
            "2293  23757.8252  3.571114  7.559606  ... -4.195084    6           10.0\n",
            "2295  23861.5527  3.544243  7.657220  ... -4.100319    6           10.0\n",
            "2297  23926.1767  3.556293  7.697841  ... -4.180131    6           10.0\n",
            "2299  23856.8448  3.559040  7.761942  ... -4.212230    6           10.0\n",
            "\n",
            "[50 rows x 130 columns]\n",
            "---------------------------batch7------------------------------------\n",
            "              1         2         3  ...       128  gas  concentration\n",
            "1195  7054.3039  3.267451  1.981783  ... -4.629777    6           10.0\n",
            "1239  8223.2737  3.806474  2.275638  ... -4.120797    6           10.0\n",
            "1268  2085.9080  1.577752  0.958900  ... -3.588046    6           10.0\n",
            "1280  6731.9924  3.623840  1.707593  ... -4.033297    6           10.0\n",
            "1322  6483.8819  3.448632  1.671285  ... -4.166301    6           10.0\n",
            "...         ...       ...       ...  ...       ...  ...            ...\n",
            "2641   688.4431  1.231866  0.191693  ... -3.746288    6           10.0\n",
            "2660   750.0352  1.181065  0.209698  ... -5.115311    6           10.0\n",
            "2688   690.8298  1.221534  0.200079  ... -3.822329    6           10.0\n",
            "2735   688.6553  1.227492  0.198171  ... -3.740889    6           10.0\n",
            "2782  6185.6914  1.625087  1.957990  ... -4.603143    6           10.0\n",
            "\n",
            "[87 rows x 130 columns]\n",
            "---------------------------batch8------------------------------------\n",
            "             1         2         3  ...       128  gas  concentration\n",
            "201  2861.8643  1.411979  0.825346  ... -5.547926    6           10.0\n",
            "203  4538.1101  3.042576  0.955957  ... -6.481604    6           10.0\n",
            "205  3700.7905  2.149919  0.829308  ... -5.557260    6           10.0\n",
            "207  3518.2109  2.292098  0.799002  ... -5.842437    6           10.0\n",
            "209  3109.7784  2.397704  0.700004  ... -5.948504    6           10.0\n",
            "211  2532.4112  2.349472  0.552202  ... -6.310727    6           10.0\n",
            "213  2991.9850  2.581006  0.663880  ... -5.562510    6           10.0\n",
            "215  3973.6426  2.769885  0.884354  ... -5.319435    6           10.0\n",
            "217  3129.0897  2.669880  0.698554  ... -5.651925    6           10.0\n",
            "219  3326.3935  2.750043  0.755002  ... -5.350145    6           10.0\n",
            "221  2947.0799  2.499649  0.659984  ... -6.702840    6           10.0\n",
            "222  2925.4390  2.784163  0.660249  ... -7.013753    6           10.0\n",
            "224  3104.8270  2.855528  0.689006  ... -5.663980    6           10.0\n",
            "226  2970.8474  2.901264  0.661067  ... -5.975604    6           10.0\n",
            "228  2508.0234  2.739291  0.560389  ... -5.541370    6           10.0\n",
            "231  2202.0223  2.759781  0.475637  ... -6.104188    6           10.0\n",
            "232  2049.1830  2.749775  0.435301  ... -4.476065    6           10.0\n",
            "233  1435.3057  2.515957  0.301954  ... -5.312203    6           10.0\n",
            "\n",
            "[18 rows x 130 columns]\n",
            "---------------------------batch9------------------------------------\n",
            "              1         2         3  ...        128  gas  concentration\n",
            "53       7.6741  1.636390  0.025758  ... -10.999292    6           10.0\n",
            "370  26540.5728  4.377133  7.243082  ...  -7.815531    6           10.0\n",
            "371  28483.6104  4.349737  9.216543  ...  -7.444741    6           10.0\n",
            "372  24115.8487  3.824211  8.247086  ...  -7.166201    6           10.0\n",
            "373  22047.4560  3.614679  6.862234  ...  -6.882936    6           10.0\n",
            "..          ...       ...       ...  ...        ...  ...            ...\n",
            "465  13384.8262  2.820931  4.007378  ...  -6.226359    6           10.0\n",
            "466  13382.9619  2.825174  4.010915  ...  -6.859804    6           10.0\n",
            "467  13336.8725  2.822288  3.980818  ...  -6.263872    6           10.0\n",
            "468  13351.1318  2.824358  3.987819  ...  -6.044784    6           10.0\n",
            "469  13314.9336  2.816502  3.982182  ...  -5.726544    6           10.0\n",
            "\n",
            "[101 rows x 130 columns]\n",
            "---------------------------batch10------------------------------------\n",
            "Empty DataFrame\n",
            "Columns: [1, 2, 3, 4, 5, 6, 7, 8, 9, 10, 11, 12, 13, 14, 15, 16, 17, 18, 19, 20, 21, 22, 23, 24, 25, 26, 27, 28, 29, 30, 31, 32, 33, 34, 35, 36, 37, 38, 39, 40, 41, 42, 43, 44, 45, 46, 47, 48, 49, 50, 51, 52, 53, 54, 55, 56, 57, 58, 59, 60, 61, 62, 63, 64, 65, 66, 67, 68, 69, 70, 71, 72, 73, 74, 75, 76, 77, 78, 79, 80, 81, 82, 83, 84, 85, 86, 87, 88, 89, 90, 91, 92, 93, 94, 95, 96, 97, 98, 99, 100, ...]\n",
            "Index: []\n",
            "\n",
            "[0 rows x 130 columns]\n"
          ],
          "name": "stdout"
        }
      ]
    },
    {
      "cell_type": "markdown",
      "metadata": {
        "id": "00534XYeScmh"
      },
      "source": [
        "## 4. 根據下圖指出這四條曲線分別是下面哪一個分類器?"
      ]
    },
    {
      "cell_type": "code",
      "metadata": {
        "id": "DNceT_ITBiV-"
      },
      "source": [
        "def evaluation(classifier):\n",
        "    acc = []\n",
        "    for i in range(2, 11):\n",
        "        dataset = pd.read_table(\"batch\"+str(i)+\".dat\",sep=\"\\s+\",header=None)\n",
        "        # print(dataset.head())\n",
        "        new_dataset = pd.DataFrame()\n",
        "        new_dataset = preprocess_dataset(dataset)\n",
        "        X_2 = new_dataset.drop(columns=[\"gas\", \"concentration\"])\n",
        "        y_2 = new_dataset[[\"gas\"]]\n",
        "        prediction = classifier.predict(X_2)\n",
        "        acc.append(classifier.score(X_2, y_2))\n",
        "    return acc"
      ],
      "execution_count": null,
      "outputs": []
    },
    {
      "cell_type": "code",
      "metadata": {
        "id": "K5LDzWlP88vv"
      },
      "source": [
        "from sklearn.svm import SVC\n",
        "from sklearn.model_selection import GridSearchCV, StratifiedKFold, cross_val_score\n",
        "from sklearn.preprocessing import MinMaxScaler, scale\n",
        "\n",
        "X = batch_1.drop(columns=[\"gas\", \"concentration\"])\n",
        "y = batch_1[[\"gas\"]]\n",
        "svm_clf_param = {'C':[10**i for i in range(-10,10)]}\n",
        "\n",
        "# RBF+SVM\n",
        "svm_clf = SVC(kernel=\"rbf\", gamma='auto')\n",
        "svm_gs = GridSearchCV(estimator = svm_clf, param_grid = svm_clf_param , scoring = 'accuracy', cv = 5)\n",
        "svm_gs.fit(X,y)\n",
        "acc_rbf_svm = evaluation(svm_gs)\n",
        "\n",
        "# RBF+SVM(with standardlization)\n",
        "from sklearn.preprocessing import StandardScaler\n",
        "from sklearn.pipeline import Pipeline\n",
        "svm_clf_param = {'clf__gamma':[10**i for i in range(-10,10)]}\n",
        "pipe_svm = Pipeline([('scaler', StandardScaler()), ('clf', SVC(kernel=\"rbf\", gamma='auto'))])\n",
        "std_svm = GridSearchCV(estimator = pipe_svm, param_grid = svm_clf_param, scoring = 'accuracy', cv = 5)\n",
        "std_svm.fit(X,y)\n",
        "acc_std_svm = []\n",
        "for i in range(2, 11):\n",
        "    dataset = pd.read_table(\"batch\"+str(i)+\".dat\",sep=\"\\s+\",header=None)\n",
        "    new_dataset = pd.DataFrame()\n",
        "    new_dataset = preprocess_dataset(dataset)\n",
        "    X_2 = new_dataset.drop(columns=[\"gas\", \"concentration\"])\n",
        "    y_2 = new_dataset[[\"gas\"]]\n",
        "    prediction = std_svm.predict(X_2)\n",
        "    acc_std_svm.append(std_svm.score(X_2, y_2))\n",
        "\n"
      ],
      "execution_count": null,
      "outputs": []
    },
    {
      "cell_type": "code",
      "metadata": {
        "id": "cPwtnYsEzM7j"
      },
      "source": [
        "#stdscaler + selector + pca20 +rbf svm\n",
        "from sklearn.feature_selection import SelectKBest, mutual_info_classif\n",
        "from sklearn.decomposition import PCA\n",
        "std_select_svm_pipe = Pipeline([('scaler', StandardScaler()),\n",
        "                           ('feature_select',SelectKBest(score_func=mutual_info_classif,k=50)),\n",
        "                           ('pca', PCA(n_components=20)),\n",
        "                           ('clf', SVC(kernel=\"rbf\", gamma='auto'))])\n",
        "\n",
        "std_select_svm = GridSearchCV(estimator = std_select_svm_pipe, param_grid = svm_clf_param, scoring = 'accuracy', cv = 5)\n",
        "std_select_svm.fit(X, y)\n",
        "acc_std_select_svm = []\n",
        "\n",
        "for i in range(2, 11):\n",
        "    dataset = pd.read_table(\"batch\"+str(i)+\".dat\",sep=\"\\s+\",header=None)\n",
        "    new_dataset = pd.DataFrame()\n",
        "    new_dataset = preprocess_dataset(dataset)\n",
        "    X_2 = new_dataset.drop(columns=[\"gas\", \"concentration\"])\n",
        "    # X_2 = StandardScaler().fit_transform(new_dataset.drop(columns=[\"gas\", \"concentration\"]))\n",
        "    y_2 = new_dataset[[\"gas\"]]\n",
        "    prediction = std_select_svm.predict(X_2)\n",
        "    acc_std_select_svm.append(std_select_svm.score(X_2, y_2))"
      ],
      "execution_count": null,
      "outputs": []
    },
    {
      "cell_type": "code",
      "metadata": {
        "id": "2z1cL67C3WW9"
      },
      "source": [
        "# customized_normalization+lda+rbf svm\n",
        "from sklearn.feature_selection import SelectKBest\n",
        "from sklearn.preprocessing import Normalizer,MinMaxScaler\n",
        "from sklearn.discriminant_analysis import LinearDiscriminantAnalysis as LDA\n",
        "\n",
        "std_nor_svm_pipe = Pipeline([('normalize', Normalizer()),\n",
        "                           ('lda', LDA()),\n",
        "                           ('clf', SVC(kernel=\"rbf\", gamma='auto'))])\n",
        "\n",
        "std_nor_svm = GridSearchCV(estimator = std_nor_svm_pipe, param_grid = svm_clf_param, scoring = 'accuracy', cv = 5)\n",
        "std_nor_svm.fit(X, y)\n",
        "acc_nor_lda_svm = []\n",
        "\n",
        "for i in range(2, 11):\n",
        "    dataset = pd.read_table(\"batch\"+str(i)+\".dat\",sep=\"\\s+\",header=None)\n",
        "    new_dataset = pd.DataFrame()\n",
        "    new_dataset = preprocess_dataset(dataset)\n",
        "    X_2 = new_dataset.drop(columns=[\"gas\", \"concentration\"])\n",
        "    # X_2 = Normalizer().fit_transform(new_dataset.drop(columns=[\"gas\", \"concentration\"]))\n",
        "    y_2 = new_dataset[[\"gas\"]]\n",
        "    p = std_nor_svm.predict(X_2)\n",
        "    acc_nor_lda_svm.append(std_nor_svm.score(X_2, y_2))"
      ],
      "execution_count": null,
      "outputs": []
    },
    {
      "cell_type": "code",
      "metadata": {
        "id": "b-ISrtpgamrb",
        "outputId": "7c75229b-9c55-46bb-8336-853887e92eef",
        "colab": {
          "base_uri": "https://localhost:8080/",
          "height": 54
        }
      },
      "source": [
        "# print(acc_nor_lda_svm)\n",
        "print(pipe_svm.get_params().keys())"
      ],
      "execution_count": null,
      "outputs": [
        {
          "output_type": "stream",
          "text": [
            "dict_keys(['memory', 'steps', 'verbose', 'scaler', 'clf', 'scaler__copy', 'scaler__with_mean', 'scaler__with_std', 'clf__C', 'clf__break_ties', 'clf__cache_size', 'clf__class_weight', 'clf__coef0', 'clf__decision_function_shape', 'clf__degree', 'clf__gamma', 'clf__kernel', 'clf__max_iter', 'clf__probability', 'clf__random_state', 'clf__shrinking', 'clf__tol', 'clf__verbose'])\n"
          ],
          "name": "stdout"
        }
      ]
    },
    {
      "cell_type": "code",
      "metadata": {
        "id": "yaT2mIKxLkG2",
        "outputId": "a14aaa19-d8c5-426b-c753-3ade8944ed1e",
        "colab": {
          "base_uri": "https://localhost:8080/",
          "height": 286
        }
      },
      "source": [
        "import matplotlib.pyplot as plt\n",
        "bat=[2,3,4,5,6,7,8,9,10]\n",
        "plt.ylim(0, 1.0)\n",
        "plt.grid(b=True, which='major', color='#666666', linestyle='-')\n",
        "plt.plot(bat,acc_rbf_svm, marker=\"^\", label=\"svm(rbf kernel)\")\n",
        "plt.plot(bat,acc_std_svm, marker=\"o\", label=\"standardlize svm(rbf kernel)\")\n",
        "plt.plot(bat,acc_std_select_svm, marker=\"*\", label=\" stdscaler+selector+pca20+rbf svm\")\n",
        "plt.plot(bat,acc_nor_lda_svm, marker=\"*\", label=\"customized_normalization+lda+rbf svm\")\n",
        "plt.legend()"
      ],
      "execution_count": null,
      "outputs": [
        {
          "output_type": "execute_result",
          "data": {
            "text/plain": [
              "<matplotlib.legend.Legend at 0x7f412902e400>"
            ]
          },
          "metadata": {
            "tags": []
          },
          "execution_count": 27
        },
        {
          "output_type": "display_data",
          "data": {
            "image/png": "[encoded data removed]",
            "text/plain": [
              "<Figure size 432x288 with 1 Axes>"
            ]
          },
          "metadata": {
            "tags": [],
            "needs_background": "light"
          }
        }
      ]
    },
    {
      "cell_type": "code",
      "metadata": {
        "id": "abYwzRztRJof"
      },
      "source": [
        ""
      ],
      "execution_count": null,
      "outputs": []
    }
  ]
}