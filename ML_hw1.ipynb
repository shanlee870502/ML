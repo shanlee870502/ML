{
  "nbformat": 4,
  "nbformat_minor": 0,
  "metadata": {
    "colab": {
      "name": "ML_hw1.ipynb",
      "provenance": [],
      "collapsed_sections": []
    },
    "kernelspec": {
      "name": "python3",
      "display_name": "Python 3"
    },
    "accelerator": "GPU"
  },
  "cells": [
    {
      "cell_type": "code",
      "metadata": {
        "id": "arSJ0RYC2Msd",
        "outputId": "3fc7caee-aeea-42a7-cd80-01e2bc2beada",
        "colab": {
          "base_uri": "https://localhost:8080/",
          "height": 502
        }
      },
      "source": [
        "# -*- coding: utf-8 -*-\n",
        "import numpy as np\n",
        "import sklearn\n",
        "from sklearn.datasets import load_breast_cancer\n",
        "from sklearn.model_selection import GridSearchCV, StratifiedKFold, cross_val_score\n",
        "from sklearn.neighbors import KNeighborsClassifier\n",
        "from sklearn.svm import SVC\n",
        "from scipy import stats\n",
        "from sklearn.preprocessing import MinMaxScaler, scale\n",
        "\n",
        "import matplotlib.pyplot as plt\n",
        "\n",
        "data, target = load_breast_cancer(True)\n",
        "data = scale(data)\n",
        "\n",
        "n_neighbors = [1, 3, 5, 7]\n",
        "C = [0.01, 0.1, 1, 10]\n",
        "\n",
        "Knn_param_grid = dict(n_neighbors=n_neighbors)\n",
        "SVC_param_grid = dict(kernel=[\"linear\"], C=C)\n",
        "\n",
        "\n",
        "Knn = KNeighborsClassifier()\n",
        "SVC = SVC(probability=True) \n",
        "\n",
        "#inner cross-validation for hyper parameter tuning\n",
        "Knn_clf = GridSearchCV(Knn, Knn_param_grid, cv=5) \n",
        "SVC_clf = GridSearchCV(SVC, SVC_param_grid, cv=5)\n",
        "\n",
        "#outer cross-falidation for estimating the accuracy of the classifier\n",
        "Kfold = StratifiedKFold(n_splits=10, shuffle=True, random_state = 2)\n",
        "\n",
        "Knn_acc_list = cross_val_score(Knn_clf, data, target, scoring = 'accuracy', cv=Kfold)\n",
        "SVC_acc_list = cross_val_score(SVC_clf, data, target, scoring = 'accuracy', cv=Kfold)\n",
        "\n",
        "print(\"Knn :\\nMean accuracy:\", np.mean(Knn_acc_list), \"\\nStandard diviation:\", np.std(Knn_acc_list))\n",
        "print(\"\\nSVC :\\nMean accuracy:\", np.mean(SVC_acc_list), \"\\nStandard diviation:\", np.std(SVC_acc_list))\n",
        "t, pvalue = stats.ttest_rel(Knn_acc_list, SVC_acc_list)\n",
        "\n",
        "print(\"\\npvalue: \", pvalue)\n",
        "\n",
        "if pvalue<=0.05:\n",
        "    print('the differrence in accuracy between classifiers Knn and SVC is significant')\n",
        "else:\n",
        "    print('the differrence in accuracy between classifiers Knn and SVC is not significant')\n",
        "\n",
        "# Knn ROC and AUC   \n",
        "Knn_mean_fpr = np.linspace(0,1,100)\n",
        "Knn_mean_tpr = 0\n",
        "Knn_mean_auc = 0\n",
        "Knn_pos_class_idx = 1\n",
        "\n",
        "for train_index, test_index in Kfold.split(data, target):\n",
        "    Knn.fit(data[train_index], target[train_index])\n",
        "    Knn_score = Knn.predict_proba(data[test_index])[:,Knn_pos_class_idx]\n",
        "    fpr,tpr, threshold = sklearn.metrics.roc_curve(target[test_index], Knn_score, pos_label =1)\n",
        "    Knn_mean_tpr += np.interp(Knn_mean_fpr, fpr, tpr)\n",
        "    Knn_mean_auc += sklearn.metrics.auc(fpr, tpr) \n",
        "    \n",
        "Knn_mean_auc/=10\n",
        "Knn_mean_tpr[0] = 0\n",
        "Knn_mean_tpr/=10\n",
        "Knn_mean_tpr[-1] = 1\n",
        "\n",
        "print(\"Knn mean AUC: \",Knn_mean_auc)\n",
        "\n",
        "#SVC ROC and AUC\n",
        "SVC_mean_fpr = np.linspace(0,1,100)\n",
        "SVC_mean_tpr = 0\n",
        "SVC_mean_auc = 0\n",
        "SVC_pos_class_idx = 1\n",
        "\n",
        "for train_index, test_index in Kfold.split(data, target):\n",
        "    SVC.fit(data[train_index], target[train_index])\n",
        "    SVC_score = SVC.predict_proba(data[test_index])[:, SVC_pos_class_idx]\n",
        "    fpr, tpr, threshold = sklearn.metrics.roc_curve(target[test_index], SVC_score, pos_label =1)\n",
        "    SVC_mean_tpr += np.interp(SVC_mean_fpr, fpr, tpr)\n",
        "    SVC_mean_auc += sklearn.metrics.auc(fpr, tpr)\n",
        "\n",
        "SVC_mean_auc/=10\n",
        "SVC_mean_tpr[0] = 0\n",
        "SVC_mean_tpr/=10\n",
        "SVC_mean_tpr[-1] = 1\n",
        "print(\"SVC mean AUC: \",SVC_mean_auc)\n",
        "\n",
        "#Plot\n",
        "plt.title(\"ROC curve\")\n",
        "plt.xlabel(\"False Positive Rate\")\n",
        "plt.ylabel(\"True Positive Rate\")\n",
        "\n",
        "props = dict(boxstyle='round', color=\"pink\", alpha=0.5)\n",
        "plt.text(0.05,0, \"Knn mean AUC: \"+ str(Knn_mean_auc) + \"\\nSVC mean AUC: \"+ str(SVC_mean_auc),\n",
        "         fontsize = 12, bbox=props)\n",
        "\n",
        "plt.plot(Knn_mean_fpr, Knn_mean_tpr, label=\"Knn\")\n",
        "plt.fill_between(Knn_mean_fpr, 0, Knn_mean_tpr, alpha=0.3)\n",
        "\n",
        "plt.plot(SVC_mean_fpr, SVC_mean_tpr, label=\"SVC\")\n",
        "plt.fill_between(SVC_mean_fpr, 0, SVC_mean_tpr, alpha=0.2)\n",
        "\n",
        "plt.legend()\n",
        "plt.show()"
      ],
      "execution_count": 1,
      "outputs": [
        {
          "output_type": "stream",
          "text": [
            "Knn :\n",
            "Mean accuracy: 0.9648182957393482 \n",
            "Standard diviation: 0.03143716992637167\n",
            "\n",
            "SVC :\n",
            "Mean accuracy: 0.9719298245614034 \n",
            "Standard diviation: 0.02505764360892229\n",
            "\n",
            "pvalue:  0.3967708732699985\n",
            "the differrence in accuracy between classifiers Knn and SVC is not significant\n",
            "Knn mean AUC:  0.9859489452346597\n",
            "SVC mean AUC:  0.9953676217961933\n"
          ],
          "name": "stdout"
        },
        {
          "output_type": "display_data",
          "data": {
            "image/png": "[encoded data removed]",
            "text/plain": [
              "<Figure size 432x288 with 1 Axes>"
            ]
          },
          "metadata": {
            "tags": [],
            "needs_background": "light"
          }
        }
      ]
    },
    {
      "cell_type": "code",
      "metadata": {
        "id": "zkh4wPQXk4cy"
      },
      "source": [
        ""
      ],
      "execution_count": null,
      "outputs": []
    }
  ]
}